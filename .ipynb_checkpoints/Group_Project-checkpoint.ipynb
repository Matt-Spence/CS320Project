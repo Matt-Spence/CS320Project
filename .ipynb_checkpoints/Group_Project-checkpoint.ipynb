{
 "cells": [
  {
   "cell_type": "markdown",
   "metadata": {},
   "source": [
    "###### CSCE 320 :: Principles of Data Science ::Texas A&M University :: Fall 2020\n",
    "\n",
    "\n",
    "# Group Project: Analysis of Election Data over Time for the purpose of finding the Optimal set of Training Data\n",
    "\n"
   ]
  },
  {
   "cell_type": "markdown",
   "metadata": {},
   "source": [
    "Members: Matthew Spence, Adrian Shi, Marcel Theo, Michael Chaco\n",
    "\n",
    "## Major Question:\n",
    "What chronological subset of training data produces the most accurate election forecasting models?\n",
    "\n",
    "## Purpose:\n",
    "The outcomes of presidential elections shape U.S. government policy, which affects the lives of every American. We hope to determine if a predictive model generated from U.S. polling data is more or less accurate than historical data. \n",
    "Potential beneficiaries of this project are U.S. allies or businesses looking to predict the types of policies that will be implemented (which can affect their business)\n",
    "\n",
    "## Method:\n",
    "We intend to train multiple machine learning models of the same type on different subsets of training data. Each model will be trained on a chronologically continuous subset of election related data ending in 2016, and starting in each election year after 1936, ie 1936-2016, 1940-2016, 1944-2016...2012-2016. We will then compare the predictions of the various models to the actual outcome of the 2020 election, and see which is the most accurate. \n",
    " \n",
    "### Getting started: \n",
    "First we need to gather our data and clean it. Our datasets are as follows, and are divided up into pre-election data and post-election data. \n",
    "post-election: \n",
    "Popular Vote in U.S. Elections (Statista)\n",
    "Historical Electoral Vote (Data Galore)\n",
    "Binary Election outcome (Manually input)\n",
    "\n",
    "pr-election data: \n",
    "Historic head to head polling data (Gallup)\n",
    "Incumbent approval ratings (Gallup)\n",
    "Past electoral votes by state (Electoral-Vote.com)\n",
    "Government Approval Ratings (Pew Research)\n",
    "Unemployment rate (Trading Economics)\n",
    "GDP growth by year (Trading Economics)\n",
    "Incumbency (Manually input)\n",
    "Previous President's Political Party (Manually input)\n"
   ]
  },
  {
   "cell_type": "code",
   "execution_count": 1,
   "metadata": {
    "scrolled": false
   },
   "outputs": [
    {
     "data": {
      "text/html": [
       "<div>\n",
       "<style scoped>\n",
       "    .dataframe tbody tr th:only-of-type {\n",
       "        vertical-align: middle;\n",
       "    }\n",
       "\n",
       "    .dataframe tbody tr th {\n",
       "        vertical-align: top;\n",
       "    }\n",
       "\n",
       "    .dataframe thead th {\n",
       "        text-align: right;\n",
       "    }\n",
       "</style>\n",
       "<table border=\"1\" class=\"dataframe\">\n",
       "  <thead>\n",
       "    <tr style=\"text-align: right;\">\n",
       "      <th></th>\n",
       "      <th>year</th>\n",
       "      <th>electoral_d</th>\n",
       "      <th>electoral_r</th>\n",
       "      <th>total_electoral</th>\n",
       "      <th>electoral_d_percent</th>\n",
       "      <th>electoral_r_percent</th>\n",
       "      <th>popular_d</th>\n",
       "      <th>popular_r</th>\n",
       "      <th>popular_d_percent</th>\n",
       "      <th>popular_r_percent</th>\n",
       "      <th>poll_d</th>\n",
       "      <th>poll_r</th>\n",
       "      <th>incumbent</th>\n",
       "      <th>incumbent_won</th>\n",
       "      <th>incumbent_approval</th>\n",
       "      <th>trust</th>\n",
       "      <th>gdp_percent</th>\n",
       "      <th>current_party</th>\n",
       "      <th>party_won</th>\n",
       "      <th>year.1</th>\n",
       "    </tr>\n",
       "  </thead>\n",
       "  <tbody>\n",
       "    <tr>\n",
       "      <th>0</th>\n",
       "      <td>1900</td>\n",
       "      <td>155</td>\n",
       "      <td>292</td>\n",
       "      <td>447</td>\n",
       "      <td>0.3468</td>\n",
       "      <td>0.6532</td>\n",
       "      <td>6370932</td>\n",
       "      <td>7228864</td>\n",
       "      <td>0.4550</td>\n",
       "      <td>0.5170</td>\n",
       "      <td>NaN</td>\n",
       "      <td>NaN</td>\n",
       "      <td>0</td>\n",
       "      <td>0</td>\n",
       "      <td>NaN</td>\n",
       "      <td>NaN</td>\n",
       "      <td>NaN</td>\n",
       "      <td>1</td>\n",
       "      <td>1</td>\n",
       "      <td>1900</td>\n",
       "    </tr>\n",
       "    <tr>\n",
       "      <th>1</th>\n",
       "      <td>1904</td>\n",
       "      <td>140</td>\n",
       "      <td>336</td>\n",
       "      <td>476</td>\n",
       "      <td>0.2941</td>\n",
       "      <td>0.7059</td>\n",
       "      <td>5083880</td>\n",
       "      <td>7228864</td>\n",
       "      <td>0.3760</td>\n",
       "      <td>0.5640</td>\n",
       "      <td>NaN</td>\n",
       "      <td>NaN</td>\n",
       "      <td>1</td>\n",
       "      <td>1</td>\n",
       "      <td>NaN</td>\n",
       "      <td>NaN</td>\n",
       "      <td>NaN</td>\n",
       "      <td>1</td>\n",
       "      <td>1</td>\n",
       "      <td>1904</td>\n",
       "    </tr>\n",
       "    <tr>\n",
       "      <th>2</th>\n",
       "      <td>1908</td>\n",
       "      <td>162</td>\n",
       "      <td>321</td>\n",
       "      <td>483</td>\n",
       "      <td>0.3354</td>\n",
       "      <td>0.6646</td>\n",
       "      <td>6408979</td>\n",
       "      <td>7678335</td>\n",
       "      <td>0.4300</td>\n",
       "      <td>0.5160</td>\n",
       "      <td>NaN</td>\n",
       "      <td>NaN</td>\n",
       "      <td>0</td>\n",
       "      <td>-1</td>\n",
       "      <td>NaN</td>\n",
       "      <td>NaN</td>\n",
       "      <td>NaN</td>\n",
       "      <td>1</td>\n",
       "      <td>1</td>\n",
       "      <td>1908</td>\n",
       "    </tr>\n",
       "    <tr>\n",
       "      <th>3</th>\n",
       "      <td>1912</td>\n",
       "      <td>435</td>\n",
       "      <td>8</td>\n",
       "      <td>531</td>\n",
       "      <td>0.8192</td>\n",
       "      <td>0.0151</td>\n",
       "      <td>6296284</td>\n",
       "      <td>3486242</td>\n",
       "      <td>0.4180</td>\n",
       "      <td>0.2320</td>\n",
       "      <td>NaN</td>\n",
       "      <td>NaN</td>\n",
       "      <td>1</td>\n",
       "      <td>0</td>\n",
       "      <td>NaN</td>\n",
       "      <td>NaN</td>\n",
       "      <td>NaN</td>\n",
       "      <td>1</td>\n",
       "      <td>0</td>\n",
       "      <td>1912</td>\n",
       "    </tr>\n",
       "    <tr>\n",
       "      <th>4</th>\n",
       "      <td>1916</td>\n",
       "      <td>277</td>\n",
       "      <td>254</td>\n",
       "      <td>531</td>\n",
       "      <td>0.5217</td>\n",
       "      <td>0.4783</td>\n",
       "      <td>9126868</td>\n",
       "      <td>8548728</td>\n",
       "      <td>0.5216</td>\n",
       "      <td>0.4783</td>\n",
       "      <td>NaN</td>\n",
       "      <td>NaN</td>\n",
       "      <td>1</td>\n",
       "      <td>1</td>\n",
       "      <td>NaN</td>\n",
       "      <td>NaN</td>\n",
       "      <td>NaN</td>\n",
       "      <td>0</td>\n",
       "      <td>0</td>\n",
       "      <td>1916</td>\n",
       "    </tr>\n",
       "  </tbody>\n",
       "</table>\n",
       "</div>"
      ],
      "text/plain": [
       "   year  electoral_d  electoral_r  total_electoral  electoral_d_percent  \\\n",
       "0  1900          155          292              447               0.3468   \n",
       "1  1904          140          336              476               0.2941   \n",
       "2  1908          162          321              483               0.3354   \n",
       "3  1912          435            8              531               0.8192   \n",
       "4  1916          277          254              531               0.5217   \n",
       "\n",
       "   electoral_r_percent  popular_d  popular_r  popular_d_percent  \\\n",
       "0               0.6532    6370932    7228864             0.4550   \n",
       "1               0.7059    5083880    7228864             0.3760   \n",
       "2               0.6646    6408979    7678335             0.4300   \n",
       "3               0.0151    6296284    3486242             0.4180   \n",
       "4               0.4783    9126868    8548728             0.5216   \n",
       "\n",
       "   popular_r_percent  poll_d  poll_r  incumbent  incumbent_won  \\\n",
       "0             0.5170     NaN     NaN          0              0   \n",
       "1             0.5640     NaN     NaN          1              1   \n",
       "2             0.5160     NaN     NaN          0             -1   \n",
       "3             0.2320     NaN     NaN          1              0   \n",
       "4             0.4783     NaN     NaN          1              1   \n",
       "\n",
       "   incumbent_approval trust  gdp_percent  current_party  party_won  year.1  \n",
       "0                 NaN   NaN          NaN              1          1    1900  \n",
       "1                 NaN   NaN          NaN              1          1    1904  \n",
       "2                 NaN   NaN          NaN              1          1    1908  \n",
       "3                 NaN   NaN          NaN              1          0    1912  \n",
       "4                 NaN   NaN          NaN              0          0    1916  "
      ]
     },
     "execution_count": 1,
     "metadata": {},
     "output_type": "execute_result"
    }
   ],
   "source": [
    "# imports\n",
    "import pandas as pd\n",
    "import matplotlib.pyplot as plt\n",
    "\n",
    "# insert imports and data cleaning here\n",
    "elections = pd.read_csv(\"CSV/elections-1900-to-2012.csv\", encoding=\"utf-8\") \n",
    "electoralVotes = pd.read_csv(\"CSV/electoral_votes.csv\", encoding=\"utf-8\") \n",
    "approvalRatings = pd.read_csv(\"CSV/incumbency_approval_ratings.csv\", encoding=\"utf-8\") \n",
    "#polling = pd.read_csv(\"CSV/polling.csv\", encoding=\"utf-8\") \n",
    "popularVotes = pd.read_csv(\"CSV/popular_votes.csv\", encoding=\"utf-8\") \n",
    "trustRating = pd.read_csv(\"CSV/trust_rating.csv\", encoding=\"utf-8\")\n",
    "\n",
    "CleanedData = pd.read_csv(\"CSV/cleaned_data.csv\", encoding=\"utf-8\")\n",
    "\n",
    "#change percentages in CleanedData to decimal\n",
    "CleanedData['poll_d'] = CleanedData['poll_d'].str.rstrip('%').astype('float') / 100.0\n",
    "CleanedData['poll_r'] = CleanedData['poll_r'].str.rstrip('%').astype('float') / 100.0\n",
    "CleanedData['gdp_percent'] = CleanedData['gdp_percent'].str.rstrip('%').astype('float') / 100.0\n",
    "CleanedData['electoral_r_percent'] = CleanedData['electoral_r_percent'].str.rstrip('%').astype('float') / 100.0\n",
    "CleanedData['electoral_d_percent'] = CleanedData['electoral_d_percent'].str.rstrip('%').astype('float') / 100.0\n",
    "CleanedData['popular_d_percent'] = CleanedData['popular_d_percent'].str.rstrip('%').astype('float') / 100.0\n",
    "CleanedData['popular_r_percent'] = CleanedData['popular_r_percent'].str.rstrip('%').astype('float') / 100.0\n",
    "\n",
    "CleanedData.head()"
   ]
  },
  {
   "cell_type": "markdown",
   "metadata": {},
   "source": [
    "### A key decision in this project will be what machine learning model we use. We intend to use a model from the sklearn library. The goal of this project is not to test the accuracy of a given model per se, but rather to find the best set of training data. As such we considered a few relatively simple models:\n",
    "Linear Regression<br>\n",
    "Ridge Regression<br>\n",
    "Lasso Regression<br>\n",
    "\n",
    "### After reviewing the current techniques used in professional election forecasting, we decided that a linear regression would serve our purposes well. This model is already familiar to us through our class work, and is easy to work with. This will enable us to spend less time worrying about optimizing our model and more time testing different subsets of data. \n",
    "\n"
   ]
  },
  {
   "cell_type": "code",
   "execution_count": 2,
   "metadata": {},
   "outputs": [
    {
     "data": {
      "text/html": [
       "<div>\n",
       "<style scoped>\n",
       "    .dataframe tbody tr th:only-of-type {\n",
       "        vertical-align: middle;\n",
       "    }\n",
       "\n",
       "    .dataframe tbody tr th {\n",
       "        vertical-align: top;\n",
       "    }\n",
       "\n",
       "    .dataframe thead th {\n",
       "        text-align: right;\n",
       "    }\n",
       "</style>\n",
       "<table border=\"1\" class=\"dataframe\">\n",
       "  <thead>\n",
       "    <tr style=\"text-align: right;\">\n",
       "      <th></th>\n",
       "      <th>year</th>\n",
       "      <th>electoral_d</th>\n",
       "      <th>electoral_r</th>\n",
       "      <th>total_electoral</th>\n",
       "      <th>electoral_d_percent</th>\n",
       "      <th>electoral_r_percent</th>\n",
       "      <th>popular_d</th>\n",
       "      <th>popular_r</th>\n",
       "      <th>popular_d_percent</th>\n",
       "      <th>popular_r_percent</th>\n",
       "      <th>poll_d</th>\n",
       "      <th>poll_r</th>\n",
       "      <th>incumbent</th>\n",
       "      <th>incumbent_won</th>\n",
       "      <th>incumbent_approval</th>\n",
       "      <th>trust</th>\n",
       "      <th>gdp_percent</th>\n",
       "      <th>current_party</th>\n",
       "      <th>party_won</th>\n",
       "      <th>year.1</th>\n",
       "    </tr>\n",
       "  </thead>\n",
       "  <tbody>\n",
       "    <tr>\n",
       "      <th>0</th>\n",
       "      <td>1900</td>\n",
       "      <td>155</td>\n",
       "      <td>292</td>\n",
       "      <td>447</td>\n",
       "      <td>0.3468</td>\n",
       "      <td>0.6532</td>\n",
       "      <td>6370932</td>\n",
       "      <td>7228864</td>\n",
       "      <td>0.4550</td>\n",
       "      <td>0.5170</td>\n",
       "      <td>NaN</td>\n",
       "      <td>NaN</td>\n",
       "      <td>0</td>\n",
       "      <td>0</td>\n",
       "      <td>NaN</td>\n",
       "      <td>NaN</td>\n",
       "      <td>NaN</td>\n",
       "      <td>1</td>\n",
       "      <td>1</td>\n",
       "      <td>1900</td>\n",
       "    </tr>\n",
       "    <tr>\n",
       "      <th>1</th>\n",
       "      <td>1904</td>\n",
       "      <td>140</td>\n",
       "      <td>336</td>\n",
       "      <td>476</td>\n",
       "      <td>0.2941</td>\n",
       "      <td>0.7059</td>\n",
       "      <td>5083880</td>\n",
       "      <td>7228864</td>\n",
       "      <td>0.3760</td>\n",
       "      <td>0.5640</td>\n",
       "      <td>NaN</td>\n",
       "      <td>NaN</td>\n",
       "      <td>1</td>\n",
       "      <td>1</td>\n",
       "      <td>NaN</td>\n",
       "      <td>NaN</td>\n",
       "      <td>NaN</td>\n",
       "      <td>1</td>\n",
       "      <td>1</td>\n",
       "      <td>1904</td>\n",
       "    </tr>\n",
       "    <tr>\n",
       "      <th>2</th>\n",
       "      <td>1908</td>\n",
       "      <td>162</td>\n",
       "      <td>321</td>\n",
       "      <td>483</td>\n",
       "      <td>0.3354</td>\n",
       "      <td>0.6646</td>\n",
       "      <td>6408979</td>\n",
       "      <td>7678335</td>\n",
       "      <td>0.4300</td>\n",
       "      <td>0.5160</td>\n",
       "      <td>NaN</td>\n",
       "      <td>NaN</td>\n",
       "      <td>0</td>\n",
       "      <td>-1</td>\n",
       "      <td>NaN</td>\n",
       "      <td>NaN</td>\n",
       "      <td>NaN</td>\n",
       "      <td>1</td>\n",
       "      <td>1</td>\n",
       "      <td>1908</td>\n",
       "    </tr>\n",
       "    <tr>\n",
       "      <th>3</th>\n",
       "      <td>1912</td>\n",
       "      <td>435</td>\n",
       "      <td>8</td>\n",
       "      <td>531</td>\n",
       "      <td>0.8192</td>\n",
       "      <td>0.0151</td>\n",
       "      <td>6296284</td>\n",
       "      <td>3486242</td>\n",
       "      <td>0.4180</td>\n",
       "      <td>0.2320</td>\n",
       "      <td>NaN</td>\n",
       "      <td>NaN</td>\n",
       "      <td>1</td>\n",
       "      <td>0</td>\n",
       "      <td>NaN</td>\n",
       "      <td>NaN</td>\n",
       "      <td>NaN</td>\n",
       "      <td>1</td>\n",
       "      <td>0</td>\n",
       "      <td>1912</td>\n",
       "    </tr>\n",
       "    <tr>\n",
       "      <th>4</th>\n",
       "      <td>1916</td>\n",
       "      <td>277</td>\n",
       "      <td>254</td>\n",
       "      <td>531</td>\n",
       "      <td>0.5217</td>\n",
       "      <td>0.4783</td>\n",
       "      <td>9126868</td>\n",
       "      <td>8548728</td>\n",
       "      <td>0.5216</td>\n",
       "      <td>0.4783</td>\n",
       "      <td>NaN</td>\n",
       "      <td>NaN</td>\n",
       "      <td>1</td>\n",
       "      <td>1</td>\n",
       "      <td>NaN</td>\n",
       "      <td>NaN</td>\n",
       "      <td>NaN</td>\n",
       "      <td>0</td>\n",
       "      <td>0</td>\n",
       "      <td>1916</td>\n",
       "    </tr>\n",
       "  </tbody>\n",
       "</table>\n",
       "</div>"
      ],
      "text/plain": [
       "   year  electoral_d  electoral_r  total_electoral  electoral_d_percent  \\\n",
       "0  1900          155          292              447               0.3468   \n",
       "1  1904          140          336              476               0.2941   \n",
       "2  1908          162          321              483               0.3354   \n",
       "3  1912          435            8              531               0.8192   \n",
       "4  1916          277          254              531               0.5217   \n",
       "\n",
       "   electoral_r_percent  popular_d  popular_r  popular_d_percent  \\\n",
       "0               0.6532    6370932    7228864             0.4550   \n",
       "1               0.7059    5083880    7228864             0.3760   \n",
       "2               0.6646    6408979    7678335             0.4300   \n",
       "3               0.0151    6296284    3486242             0.4180   \n",
       "4               0.4783    9126868    8548728             0.5216   \n",
       "\n",
       "   popular_r_percent  poll_d  poll_r  incumbent  incumbent_won  \\\n",
       "0             0.5170     NaN     NaN          0              0   \n",
       "1             0.5640     NaN     NaN          1              1   \n",
       "2             0.5160     NaN     NaN          0             -1   \n",
       "3             0.2320     NaN     NaN          1              0   \n",
       "4             0.4783     NaN     NaN          1              1   \n",
       "\n",
       "   incumbent_approval trust  gdp_percent  current_party  party_won  year.1  \n",
       "0                 NaN   NaN          NaN              1          1    1900  \n",
       "1                 NaN   NaN          NaN              1          1    1904  \n",
       "2                 NaN   NaN          NaN              1          1    1908  \n",
       "3                 NaN   NaN          NaN              1          0    1912  \n",
       "4                 NaN   NaN          NaN              0          0    1916  "
      ]
     },
     "execution_count": 2,
     "metadata": {},
     "output_type": "execute_result"
    }
   ],
   "source": [
    "# get the data into a dataframe\n",
    "data = pd.DataFrame(CleanedData)\n",
    "data.head()"
   ]
  },
  {
   "cell_type": "markdown",
   "metadata": {},
   "source": [
    "### Once we have all of our raw data in an easily usable format, we need to divide the data into testable subsets. We want to see what chronologically continuous subset of training data provides the most accurate predictions for the 2020 election. That is, we want to train a model for every possible subset of data that includes every election after a given cutoff year, where the cutoff year will be set at some past election eg 1960-2016, 1964-2016, 1968-2016 ... 2012-2016, only 2016. This means that for n elections for which we have viable data, we will have n different subsets of data to test. "
   ]
  },
  {
   "cell_type": "code",
   "execution_count": 3,
   "metadata": {},
   "outputs": [],
   "source": [
    "# dataInRange returns the cleaned data in a given range of years.\n",
    "\n",
    "def dataInRange(df, startYear, endYear):\n",
    "    newDf = df[df['year'].between(startYear, endYear)]\n",
    "    return newDf"
   ]
  },
  {
   "cell_type": "markdown",
   "metadata": {},
   "source": [
    "### Before we train our models, we need the best available data on the 2020 election to get the various model's predictions.  "
   ]
  },
  {
   "cell_type": "code",
   "execution_count": 4,
   "metadata": {},
   "outputs": [],
   "source": [
    "# import 2020 data\n",
    "thisYear = data[data['year'].between(2020, 2020)]"
   ]
  },
  {
   "cell_type": "markdown",
   "metadata": {
    "scrolled": true
   },
   "source": [
    "### Now that we have our training data and our model, we need to decide what technique to use to train the model. We also need to decide how to define and measure the \"accuracy\" of a given model. There are many metrics associated with elections, including binary outcome, popular vote, electoral college vote, states won, etc. We decided to start simple, by predicting the binary outcome, and naively training the model on the test data. We will also need a way to visualize the results, which we have provided via the following function"
   ]
  },
  {
   "cell_type": "code",
   "execution_count": 5,
   "metadata": {},
   "outputs": [],
   "source": [
    "import matplotlib.pyplot as plt\n",
    "from mpl_toolkits.axes_grid1 import ImageGrid\n",
    "import PIL\n",
    "\n",
    "\n",
    "\n",
    "def display_grid(imgs, grid_shape, scale=0.1, axes_pad=0.07):\n",
    "\n",
    "    # Grid must be 2D:\n",
    "    assert len(grid_shape) == 2\n",
    "\n",
    "    # Make sure all images can fit in grid:\n",
    "    assert grid_shape[0]*grid_shape[1] >= len(imgs)\n",
    "\n",
    "    grid = ImageGrid(plt.gcf(), 111, grid_shape, axes_pad=axes_pad)\n",
    "    for i, data in enumerate(imgs):\n",
    "\n",
    "        # Scale image:\n",
    "        im = data\n",
    "        thumb_shape = [im.size[0]*scale, im.size[1]*scale]\n",
    "        im.thumbnail(thumb_shape, PIL.Image.ANTIALIAS)\n",
    "        data_thumb = np.array(im)\n",
    "        grid[i].imshow(data_thumb)\n",
    "\n",
    "        # Turn off axes:\n",
    "        grid[i].axes.get_xaxis().set_visible(False)\n",
    "        grid[i].axes.get_yaxis().set_visible(False)\n",
    "        grid[i].axis(\"off\")\n",
    "        grid[i].set_title(1936+4*i)"
   ]
  },
  {
   "cell_type": "markdown",
   "metadata": {},
   "source": [
    "### In the first run of our predictions using linear regression, we tried to predict the binary outcome of 2020’s election using zero as a democrat win and 1 as a republican win. This was, to put it bluntly, pretty stupid. The result we received from each model were decimal values ranging from a negative number to three, concentrating between zeros and one. Linear regressions are not appropriate for binary predictions, as they require the outcome for a given input to be continous. A more appropriate model for predicting binary outcomes would be a logistic regression. This is a very simple change, so we have provided the results below."
   ]
  },
  {
   "cell_type": "code",
   "execution_count": 6,
   "metadata": {},
   "outputs": [
    {
     "name": "stdout",
     "output_type": "stream",
     "text": [
      "Binary outcome predictions: \n",
      "[0, 0, 0, 1, 1, 1, 0, 1, 1, 1, 0, 1, 1, 0, 0, 0, 1, 0, 0, 0]\n"
     ]
    },
    {
     "data": {
      "image/png": "[encoded data removed]",
      "text/plain": [
       "<Figure size 432x288 with 40 Axes>"
      ]
     },
     "metadata": {
      "needs_background": "light"
     },
     "output_type": "display_data"
    }
   ],
   "source": [
    "# train the models to predict the binary outcome.\n",
    "from sklearn.linear_model import LinearRegression\n",
    "from sklearn.linear_model import LogisticRegression\n",
    "import numpy as np\n",
    "\n",
    "FIRST_YEAR = 1936\n",
    "LAST_YEAR = 2016\n",
    "\n",
    "predictions_binary = []\n",
    "\n",
    "#\n",
    "# get binary outcome predictions\n",
    "#\n",
    "\n",
    "# Iterate over every possible range of years\n",
    "for i in range(FIRST_YEAR,LAST_YEAR, 4): \n",
    "        # train model for each of these subsets..\n",
    "        subset = dataInRange(data, i, LAST_YEAR)\n",
    "        x = subset[['poll_d', 'poll_r', 'incumbent', 'incumbent_approval', 'current_party']]\n",
    "        y = subset['party_won'] # binary outcome data from this subset of years\n",
    "        model = LogisticRegression()\n",
    "        model.fit(x,y)\n",
    "        \n",
    "        ### Next, predict y from the 2020 data\n",
    "        x_new = thisYear[['poll_d', 'poll_r', 'incumbent', 'incumbent_approval', 'current_party']]\n",
    "        y_new = model.predict(x_new)\n",
    "        predictions_binary.append(y_new[0]) # for some reason y_new creates an array of one element, so use the first (and only) element\n",
    "\n",
    "print(\"Binary outcome predictions: \")\n",
    "print(predictions_binary)\n",
    "\n",
    "images = []\n",
    "redMap = PIL.Image.open('Images/RedMap.png')\n",
    "blueMap= PIL.Image.open('Images/BlueMap.png')\n",
    "\n",
    "for res in predictions_binary:\n",
    "    images.append(blueMap.copy() if res==0 else redMap.copy())\n",
    "    \n",
    "display_grid(images, [4, 5], scale=0.5, axes_pad=0.2)\n"
   ]
  },
  {
   "cell_type": "markdown",
   "metadata": {},
   "source": [
    "### These results are interesting, and worth analyzing, but there is a major problem with this approach. We want to gauge which subset of training data produces the optimal results, but we have no way of differentiating between two models that predicted the same binary outcome. No matter the actual result on Nov 3rd, almost have our models will be correct and we will have no way to distinguish which was \"most\" correct. We need a continuous, or at least much more varied, output. We decided from here that the electoral college vote would be the best measure. "
   ]
  },
  {
   "cell_type": "markdown",
   "metadata": {},
   "source": [
    "### There is a problem with this too, though. Electoral college votes are state level outputs based on state level inputs. We have only national data, and were unable to find reliable state level data going back any significant length of time. As such, we instead decided to predict the popular vote percentage for each major party candidate. This is an imperfect metric, since as we saw in 2016 it is not perfectly predictive of which candidate will win the election, but it is a continuous output that strongly correlates with the binary outcome of an election. "
   ]
  },
  {
   "cell_type": "code",
   "execution_count": 8,
   "metadata": {},
   "outputs": [
    {
     "name": "stdout",
     "output_type": "stream",
     "text": [
      "Popular vote predictions for republicans: \n",
      "[0.4726818487015501, 0.4712042269837754, 0.46942705775945504, 0.4668595068129434, 0.46739969915277796, 0.4679722426160325, 0.468141529241968, 0.4667355483890436, 0.46633175211973166, 0.46435387577857856, 0.4612212150869923, 0.4647958798762699, 0.4422161202138166, 0.43323293668283597, 0.43241753311813347, 0.4470291627469427, 0.4918045282967692, 0.4979788127423165, 0.46889046790612715, 0.47168032859035947]\n",
      "Popular vote predictions for democrats: \n",
      "[0.45581625273795834, 0.4567699493521089, 0.45823888645046656, 0.46085537064405213, 0.46042836853548263, 0.4571055199664321, 0.4576301886202571, 0.4579750009254904, 0.45825253548881434, 0.4621266259048776, 0.46549910121733995, 0.4554788384976616, 0.4815842467192917, 0.48581938345580405, 0.4853045495853994, 0.46980357478833495, 0.45564510580170975, 0.5007904909018661, 0.5568628270707696, 0.5027333480964749]\n"
     ]
    }
   ],
   "source": [
    "\n",
    "predictions_r = []\n",
    "predictions_d = []\n",
    "predictions_r_total = []\n",
    "predictions_d_total = []\n",
    "\n",
    "#\n",
    "# get popular vote percentage predictions for republicans\n",
    "#\n",
    "\n",
    "# Iterate over every possible range of years\n",
    "for i in range(FIRST_YEAR,LAST_YEAR, 4): \n",
    "        # train model for each of these subsets..\n",
    "        subset = dataInRange(data, i, LAST_YEAR)\n",
    "        x = subset[['poll_d', 'poll_r', 'incumbent', 'incumbent_approval', 'current_party']]\n",
    "        y = subset['popular_d_percent'] # binary outcome data from this subset of years\n",
    "        model = LinearRegression()\n",
    "        model.fit(x,y)\n",
    "        \n",
    "        ### Next, predict y from the 2020 data\n",
    "        x_new = thisYear[['poll_d', 'poll_r', 'incumbent', 'incumbent_approval', 'current_party']]\n",
    "        y_new = model.predict(x_new)\n",
    "        predictions_d.append(y_new[0]) # for some reason y_new creates an array of one element, so use the first (and only) element\n",
    "\n",
    "#        \n",
    "# get popular vote percentage predictions for democrats\n",
    "#\n",
    "\n",
    "for i in range(FIRST_YEAR,LAST_YEAR, 4): \n",
    "        # train model for each of these subsets..\n",
    "        subset = dataInRange(data, i, LAST_YEAR)\n",
    "        x = subset[['poll_d', 'poll_r', 'incumbent', 'incumbent_approval', 'current_party']]\n",
    "        y = subset['popular_r_percent'] # binary outcome data from this subset of years\n",
    "        model = LinearRegression()\n",
    "        model.fit(x,y)\n",
    "        \n",
    "        ### Next, predict y from the 2020 data\n",
    "        x_new = thisYear[['poll_d', 'poll_r', 'incumbent', 'incumbent_approval','current_party']]\n",
    "        y_new = model.predict(x_new)\n",
    "        predictions_r.append(y_new[0]) # for some reason y_new creates an array of one element, so use the first (and only) element\n",
    "\n",
    "\n",
    "\n",
    "print(\"Popular vote predictions for republicans: \")\n",
    "print(predictions_r)\n",
    "\n",
    "print(\"Popular vote predictions for democrats: \")\n",
    "print(predictions_d)\n"
   ]
  },
  {
   "cell_type": "markdown",
   "metadata": {},
   "source": [
    "### We should now have our predictions, time to visualize the results"
   ]
  },
  {
   "cell_type": "code",
   "execution_count": 9,
   "metadata": {},
   "outputs": [
    {
     "data": {
      "image/png": "[encoded data removed]",
      "text/plain": [
       "<Figure size 432x288 with 40 Axes>"
      ]
     },
     "metadata": {
      "needs_background": "light"
     },
     "output_type": "display_data"
    }
   ],
   "source": [
    "images = []\n",
    "for res in zip(predictions_r, predictions_d):\n",
    "    images.append(blueMap.copy() if res[0] < res[1] else redMap.copy())\n",
    "    \n",
    "display_grid(images, [4, 5], scale=0.5, axes_pad=0.2)"
   ]
  },
  {
   "cell_type": "markdown",
   "metadata": {},
   "source": [
    " "
   ]
  },
  {
   "cell_type": "code",
   "execution_count": 10,
   "metadata": {},
   "outputs": [],
   "source": [
    "# use the same techniques as before the predict the popular vote margin"
   ]
  },
  {
   "cell_type": "code",
   "execution_count": 11,
   "metadata": {
    "scrolled": true
   },
   "outputs": [
    {
     "name": "stdout",
     "output_type": "stream",
     "text": [
      "[1.6865595963591773, 1.4434277631666492, 1.118817130898847, 0.6004136168891283, 0.6971330617295324, 1.0866722649600369, 1.0511340621710885, 0.8760547463553148, 0.8079216630917319, 0.22272498737009871, -0.427788613034763, 0.9317041378608337, -3.9368126505475054, -5.258644677296809, -5.2887016467265955, -2.2774412041392242, 3.6159422495059435, -0.28116781595496354, -8.797235916464247, -3.1053019506115387]\n",
      "-3.400000000000003\n"
     ]
    },
    {
     "data": {
      "text/plain": [
       "[]"
      ]
     },
     "execution_count": 11,
     "metadata": {},
     "output_type": "execute_result"
    },
    {
     "data": {
      "image/png": "[encoded data removed]",
      "text/plain": [
       "<Figure size 1440x720 with 1 Axes>"
      ]
     },
     "metadata": {
      "needs_background": "light"
     },
     "output_type": "display_data"
    }
   ],
   "source": [
    "# Overlay the popular vote percentage difference over the binary predictions\n",
    "\n",
    "from matplotlib.pyplot import step, show\n",
    "import matplotlib.ticker as mtick\n",
    "\n",
    "\n",
    "percentage_difference = []\n",
    "for res in zip(predictions_r, predictions_d):\n",
    "    percentage_difference.append((res[0] - res[1])*100)\n",
    "    \n",
    "#print(predictions_r)\n",
    "#print(predictions_d)\n",
    "print(percentage_difference)\n",
    "tt_percentage_difference = (thisYear['popular_r_percent'].iloc[-1] - thisYear['popular_d_percent'].iloc[-1])*100\n",
    "print(tt_percentage_difference)\n",
    "x = np.arange(FIRST_YEAR, LAST_YEAR, 4, dtype=int) #years from 1936 to 2012\n",
    "\n",
    "republican = [1 if p > 0 else 0 for p in predictions_binary] \n",
    "democrat = [-1 if p < 1 else 0 for p in predictions_binary]\n",
    "\n",
    "# 1 is republican, -1 is democrat\n",
    "colors = {'Predicted republican winner':'red', 'Predicted democratic winner':'blue', 'Predicted popular vote Lead %':'green', 'Actual 2020 % Popular Vote Lead':'purple'}   \n",
    "fig = plt.figure(figsize=(20,10))\n",
    "ax = plt.subplot(111)\n",
    "ax.bar(x, republican, width=3, color=colors['Predicted republican winner'])\n",
    "ax.bar(x, democrat, width=3, color=colors['Predicted democratic winner'])\n",
    "labels = list(colors.keys())\n",
    "handles = [plt.Rectangle((0,0),1,1, color=colors[label]) for label in labels]\n",
    "plt.legend(handles, labels)\n",
    "\n",
    "plt.xticks(np.arange(min(x), max(x)+1, 4))\n",
    "plt.yticks(np.arange(-10, 5, step=1))\n",
    "ax.yaxis.set_major_formatter(mtick.PercentFormatter())\n",
    "plt.xlabel('Starting year of model (through 2016)')\n",
    "plt.ylabel('Popular vote % difference')\n",
    "plt.title('2020 Election Outcome Prediction and Popular Vote Percentage Margin run on prediction each year')\n",
    "line, = plt.plot(x, percentage_difference, linewidth=3.0, color='g')\n",
    "line.set_label('Label via method')\n",
    "plt.axhline(y=tt_percentage_difference, color='purple')\n",
    "plt.plot()\n",
    "\n",
    "#notes:\n",
    "# Scale down the 1 to negative 1, (scale up to 2 but remove the 2), scale up the line so differences are more clear"
   ]
  },
  {
   "cell_type": "code",
   "execution_count": 21,
   "metadata": {},
   "outputs": [
    {
     "data": {
      "image/png": "[encoded data removed]",
      "text/plain": [
       "<Figure size 1152x720 with 1 Axes>"
      ]
     },
     "metadata": {
      "needs_background": "light"
     },
     "output_type": "display_data"
    }
   ],
   "source": [
    "#### Compare the popular vote predictions\n",
    "\n",
    "from matplotlib.pyplot import step, show\n",
    "\n",
    "x = np.arange(FIRST_YEAR, LAST_YEAR, 4, dtype=int) #years from 1936 to 2012\n",
    "\n",
    "fig = plt.figure(figsize=(16,10))\n",
    "ax = plt.subplot(111)\n",
    "width = 0.8\n",
    "ax.bar(x - width/2, predictions_r, width, label='Republican', color='r')\n",
    "ax.bar(x + width/2, predictions_d, width, label='Democrat',   color='b')\n",
    "colors = {'Predicted republican vote percentage':'red', 'Predicted democratic vote percentage':'blue'}   \n",
    "labels = list(colors.keys())\n",
    "handles = [plt.Rectangle((0,0),1,1, color=colors[label]) for label in labels]\n",
    "plt.legend(handles, labels)\n",
    "plt.xticks(np.arange(min(x), max(x) + 1, 4))\n",
    "ax.set(ylim=[0.4, 0.58])\n",
    "ax.yaxis.set_major_formatter(mtick.PercentFormatter(1))\n",
    "plt.xlabel('Starting year of model (through 2016)')\n",
    "plt.ylabel('Predicted Popular vote %')\n",
    "plt.title('Popular vote % predictions vs. Year since model was trained')\n",
    "\n",
    "plt.show()\n",
    "# notes:"
   ]
  },
  {
   "cell_type": "markdown",
   "metadata": {},
   "source": []
  },
  {
   "cell_type": "markdown",
   "metadata": {},
   "source": [
    "### Now that the 2020 election is over, we can compare the predictions of our models to the actual results. "
   ]
  },
  {
   "cell_type": "markdown",
   "metadata": {},
   "source": [
    "## Results: "
   ]
  },
  {
   "cell_type": "code",
   "execution_count": null,
   "metadata": {},
   "outputs": [],
   "source": []
  },
  {
   "cell_type": "markdown",
   "metadata": {},
   "source": []
  },
  {
   "cell_type": "code",
   "execution_count": null,
   "metadata": {},
   "outputs": [],
   "source": []
  },
  {
   "cell_type": "markdown",
   "metadata": {},
   "source": []
  },
  {
   "cell_type": "markdown",
   "metadata": {},
   "source": []
  },
  {
   "cell_type": "code",
   "execution_count": null,
   "metadata": {},
   "outputs": [],
   "source": []
  },
  {
   "cell_type": "markdown",
   "metadata": {},
   "source": []
  },
  {
   "cell_type": "markdown",
   "metadata": {},
   "source": []
  },
  {
   "cell_type": "code",
   "execution_count": null,
   "metadata": {},
   "outputs": [],
   "source": []
  },
  {
   "cell_type": "markdown",
   "metadata": {},
   "source": []
  },
  {
   "cell_type": "code",
   "execution_count": null,
   "metadata": {},
   "outputs": [],
   "source": []
  }
 ],
 "metadata": {
  "anaconda-cloud": {},
  "kernelspec": {
   "display_name": "Python 3",
   "language": "python",
   "name": "python3"
  },
  "language_info": {
   "codemirror_mode": {
    "name": "ipython",
    "version": 3
   },
   "file_extension": ".py",
   "mimetype": "text/x-python",
   "name": "python",
   "nbconvert_exporter": "python",
   "pygments_lexer": "ipython3",
   "version": "3.8.5"
  }
 },
 "nbformat": 4,
 "nbformat_minor": 1
}
