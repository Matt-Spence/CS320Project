{
 "cells": [
  {
   "cell_type": "markdown",
   "metadata": {},
   "source": [
    "###### CSCE 320 :: Principles of Data Science ::Texas A&M University :: Fall 2020\n",
    "\n",
    "\n",
    "# Group Project: Analysis of Election Data over Time for the purpose of finding the Optimal set of Training Data\n",
    "\n"
   ]
  },
  {
   "cell_type": "markdown",
   "metadata": {},
   "source": [
    "Members: Matthew Spence, Adrian Shi, Marcel Theo, Michael Chaco\n",
    "\n",
    "## Major Question:\n",
    "What chronological subset of training data produces the most accurate election forecasting models?\n",
    "\n",
    "## Purpose:\n",
    "The outcomes of presidential elections shape U.S. government policy, which affects the lives of every American. We hope to determine if a predictive model generated from U.S. polling data is more or less accurate than historical data. \n",
    "Potential beneficiaries of this project are U.S. allies or businesses looking to predict the types of policies that will be implemented (which can affect their business)\n",
    "\n",
    "## Method:\n",
    "We intend to train two machine learning models of the same type on two different sets of training data. One will be trained on data going back as far as is available, and the other will be trained only on recent data. We will then compare the predictions of the two models to the actual outcome of the 2020 election, and see which is more accurate. \n",
    " \n",
    "### Getting started: \n",
    "First we need to gather our data and clean it. Our datasets are as follows: \n",
    "Popular Vote in U.S. Elections (Statista)\n",
    "Historical Electoral Vote (Data Galore)\n",
    "Historic head to head polling data (Gallup)\n",
    "Incumbent approval ratings (Gallup)\n",
    "Past electoral votes by state (Electoral-Vote.com)\n",
    "Government Approval Ratings (Pew Research)\n",
    "Unemployment rate (Trading Economics)\n",
    "GDP growth by year (Trading Economics)\n"
   ]
  },
  {
   "cell_type": "code",
   "execution_count": 29,
   "metadata": {
    "scrolled": false
   },
   "outputs": [],
   "source": [
    "# imports\n",
    "import pandas as pd\n",
    "import matplotlib.pyplot as plt\n",
    "\n",
    "# insert imports and data cleaning here\n",
    "elections = pd.read_csv(\"CSV/elections-1900-to-2012.csv\", encoding=\"utf-8\") \n",
    "electoralVotes = pd.read_csv(\"CSV/electoral_votes.csv\", encoding=\"utf-8\") \n",
    "approvalRatings = pd.read_csv(\"CSV/incumbency_approval_ratings.csv\", encoding=\"utf-8\") \n",
    "#polling = pd.read_csv(\"CSV/polling.csv\", encoding=\"utf-8\") \n",
    "popularVotes = pd.read_csv(\"CSV/popular_votes.csv\", encoding=\"utf-8\") \n",
    "trustRating = pd.read_csv(\"CSV/trust_rating.csv\", encoding=\"utf-8\")\n",
    "\n",
    "CleanedData = pd.read_csv(\"CSV/cleaned_data.csv\", encoding=\"utf-8\")\n"
   ]
  },
  {
   "cell_type": "markdown",
   "metadata": {},
   "source": [
    "### A key decision in this project will be what machine learning model we use. We intend to use a model from the sklearn library. The goal of this project is not to test the accuracy of a given model per se, but rather to find the best set of training data. As such we considered a few relatively simple models:\n",
    "Linear Regression<br>\n",
    "Ridge Regression<br>\n",
    "Lasso Regression<br>\n",
    "\n",
    "### After reviewing the current techniques used in professional election forecasting, we decided that a linear regression would serve our purposes well. This model is already familiar to us through our class work, and is easy to work with. This will enable us to spend less time worrying about optimizing our model and more time testing different subsets of data. \n",
    "\n"
   ]
  },
  {
   "cell_type": "code",
   "execution_count": 30,
   "metadata": {},
   "outputs": [
    {
     "data": {
      "text/html": [
       "<div>\n",
       "<style scoped>\n",
       "    .dataframe tbody tr th:only-of-type {\n",
       "        vertical-align: middle;\n",
       "    }\n",
       "\n",
       "    .dataframe tbody tr th {\n",
       "        vertical-align: top;\n",
       "    }\n",
       "\n",
       "    .dataframe thead th {\n",
       "        text-align: right;\n",
       "    }\n",
       "</style>\n",
       "<table border=\"1\" class=\"dataframe\">\n",
       "  <thead>\n",
       "    <tr style=\"text-align: right;\">\n",
       "      <th></th>\n",
       "      <th>year</th>\n",
       "      <th>electoral_d</th>\n",
       "      <th>electoral_r</th>\n",
       "      <th>total_electoral</th>\n",
       "      <th>electoral_d_percent</th>\n",
       "      <th>electoral_r_percent</th>\n",
       "      <th>popular_d</th>\n",
       "      <th>popular_r</th>\n",
       "      <th>popular_d_percent</th>\n",
       "      <th>popular_r_percent</th>\n",
       "      <th>poll_d</th>\n",
       "      <th>poll_r</th>\n",
       "      <th>incumbent</th>\n",
       "      <th>incumbent_won</th>\n",
       "      <th>incumbent_approval</th>\n",
       "      <th>trust</th>\n",
       "      <th>gdp_percent</th>\n",
       "      <th>party_won</th>\n",
       "    </tr>\n",
       "  </thead>\n",
       "  <tbody>\n",
       "    <tr>\n",
       "      <th>0</th>\n",
       "      <td>1900</td>\n",
       "      <td>155</td>\n",
       "      <td>292</td>\n",
       "      <td>447</td>\n",
       "      <td>34.68%</td>\n",
       "      <td>65.32%</td>\n",
       "      <td>6370932</td>\n",
       "      <td>7228864</td>\n",
       "      <td>45.50%</td>\n",
       "      <td>51.70%</td>\n",
       "      <td>NaN</td>\n",
       "      <td>NaN</td>\n",
       "      <td>0</td>\n",
       "      <td>0</td>\n",
       "      <td>NaN</td>\n",
       "      <td>NaN</td>\n",
       "      <td>NaN</td>\n",
       "      <td>1</td>\n",
       "    </tr>\n",
       "    <tr>\n",
       "      <th>1</th>\n",
       "      <td>1904</td>\n",
       "      <td>140</td>\n",
       "      <td>336</td>\n",
       "      <td>476</td>\n",
       "      <td>29.41%</td>\n",
       "      <td>70.59%</td>\n",
       "      <td>5083880</td>\n",
       "      <td>7228864</td>\n",
       "      <td>37.60%</td>\n",
       "      <td>56.40%</td>\n",
       "      <td>NaN</td>\n",
       "      <td>NaN</td>\n",
       "      <td>1</td>\n",
       "      <td>1</td>\n",
       "      <td>NaN</td>\n",
       "      <td>NaN</td>\n",
       "      <td>NaN</td>\n",
       "      <td>1</td>\n",
       "    </tr>\n",
       "    <tr>\n",
       "      <th>2</th>\n",
       "      <td>1908</td>\n",
       "      <td>162</td>\n",
       "      <td>321</td>\n",
       "      <td>483</td>\n",
       "      <td>33.54%</td>\n",
       "      <td>66.46%</td>\n",
       "      <td>6408979</td>\n",
       "      <td>7678335</td>\n",
       "      <td>43%</td>\n",
       "      <td>51.60%</td>\n",
       "      <td>NaN</td>\n",
       "      <td>NaN</td>\n",
       "      <td>0</td>\n",
       "      <td>-1</td>\n",
       "      <td>NaN</td>\n",
       "      <td>NaN</td>\n",
       "      <td>NaN</td>\n",
       "      <td>1</td>\n",
       "    </tr>\n",
       "    <tr>\n",
       "      <th>3</th>\n",
       "      <td>1912</td>\n",
       "      <td>435</td>\n",
       "      <td>8</td>\n",
       "      <td>531</td>\n",
       "      <td>81.92%</td>\n",
       "      <td>1.51%</td>\n",
       "      <td>6296284</td>\n",
       "      <td>3486242</td>\n",
       "      <td>41.80%</td>\n",
       "      <td>23.20%</td>\n",
       "      <td>NaN</td>\n",
       "      <td>NaN</td>\n",
       "      <td>1</td>\n",
       "      <td>0</td>\n",
       "      <td>NaN</td>\n",
       "      <td>NaN</td>\n",
       "      <td>NaN</td>\n",
       "      <td>0</td>\n",
       "    </tr>\n",
       "    <tr>\n",
       "      <th>4</th>\n",
       "      <td>1916</td>\n",
       "      <td>277</td>\n",
       "      <td>254</td>\n",
       "      <td>531</td>\n",
       "      <td>52.17%</td>\n",
       "      <td>47.83%</td>\n",
       "      <td>9126868</td>\n",
       "      <td>8548728</td>\n",
       "      <td>52.16%</td>\n",
       "      <td>47.83%</td>\n",
       "      <td>NaN</td>\n",
       "      <td>NaN</td>\n",
       "      <td>1</td>\n",
       "      <td>1</td>\n",
       "      <td>NaN</td>\n",
       "      <td>NaN</td>\n",
       "      <td>NaN</td>\n",
       "      <td>0</td>\n",
       "    </tr>\n",
       "  </tbody>\n",
       "</table>\n",
       "</div>"
      ],
      "text/plain": [
       "   year  electoral_d  electoral_r  total_electoral electoral_d_percent  \\\n",
       "0  1900          155          292              447              34.68%   \n",
       "1  1904          140          336              476              29.41%   \n",
       "2  1908          162          321              483              33.54%   \n",
       "3  1912          435            8              531              81.92%   \n",
       "4  1916          277          254              531              52.17%   \n",
       "\n",
       "  electoral_r_percent  popular_d  popular_r popular_d_percent  \\\n",
       "0              65.32%    6370932    7228864            45.50%   \n",
       "1              70.59%    5083880    7228864            37.60%   \n",
       "2              66.46%    6408979    7678335               43%   \n",
       "3               1.51%    6296284    3486242            41.80%   \n",
       "4              47.83%    9126868    8548728            52.16%   \n",
       "\n",
       "  popular_r_percent poll_d poll_r  incumbent  incumbent_won  \\\n",
       "0            51.70%    NaN    NaN          0              0   \n",
       "1            56.40%    NaN    NaN          1              1   \n",
       "2            51.60%    NaN    NaN          0             -1   \n",
       "3            23.20%    NaN    NaN          1              0   \n",
       "4            47.83%    NaN    NaN          1              1   \n",
       "\n",
       "   incumbent_approval trust gdp_percent  party_won  \n",
       "0                 NaN   NaN         NaN          1  \n",
       "1                 NaN   NaN         NaN          1  \n",
       "2                 NaN   NaN         NaN          1  \n",
       "3                 NaN   NaN         NaN          0  \n",
       "4                 NaN   NaN         NaN          0  "
      ]
     },
     "execution_count": 30,
     "metadata": {},
     "output_type": "execute_result"
    }
   ],
   "source": [
    "# get the data into a dataframe\n",
    "data = pd.DataFrame(CleanedData)\n",
    "data.head()"
   ]
  },
  {
   "cell_type": "markdown",
   "metadata": {},
   "source": [
    "### Once we have all of our raw data in an easily usable format, we need to divide the data into testable subsets. We want to see what chronologically continuous subset of training data provides the most accurate predictions for the 2020 election. That is, we want to train a model for every possible subset of data that includes every election after a given cutoff year, where the cutoff year will be set at some past election eg 1960-2016, 1964-2016, 1968-2016 ... 2012-2016, only 2016. This means that for n elections for which we have viable data, we will have n different subsets of data to test. "
   ]
  },
  {
   "cell_type": "code",
   "execution_count": 37,
   "metadata": {},
   "outputs": [],
   "source": [
    "# dataInRange returns the cleaned data in a given range of years.\n",
    "\n",
    "def dataInRange(df, startYear, endYear):\n",
    "    newDf = df[df['year'].between(startYear, endYear)]\n",
    "    return newDf"
   ]
  },
  {
   "cell_type": "code",
   "execution_count": null,
   "metadata": {},
   "outputs": [],
   "source": [
    "\n",
    "        "
   ]
  },
  {
   "cell_type": "markdown",
   "metadata": {},
   "source": [
    "### Before we train our models, we need the best available data on the 2020 election to get the various model's predictions.  "
   ]
  },
  {
   "cell_type": "code",
   "execution_count": null,
   "metadata": {},
   "outputs": [],
   "source": [
    "# import 2020 data and get predictions"
   ]
  },
  {
   "cell_type": "markdown",
   "metadata": {
    "scrolled": true
   },
   "source": [
    "### Now that we have our training data and our model, we need to decide what technique to use to train the model. We also need to decide what metrics to attempt to predict to measure the accuracy of the models. We start by simply predicting the binary outcome, and naively training the model on the test data. "
   ]
  },
  {
   "cell_type": "code",
   "execution_count": 2,
   "metadata": {},
   "outputs": [],
   "source": [
    "# train the models to predict the binary outcome.\n",
    "from sklearn.linear_model import LinearRegression\n",
    "\n",
    "FIRST_YEAR = 1900\n",
    "LAST_YEAR = 2016\n",
    "\n",
    "predictions = []\n",
    "    \n",
    "# Iterate over every possible range of years\n",
    "for i in range(LAST_YEAR,LAST_YEAR, 4): \n",
    "    for j in range(i, LAST_YEAR, 4):\n",
    "        # train model for each of these subsets..\n",
    "        subset = dataInRange(data, i, j)\n",
    "        x = subset[''] # data from this subset of years\n",
    "        y = subset['party_won'] # binary outcome data from this subset of years\n",
    "        model = LinearRegression()\n",
    "        model.fit(x,y)\n",
    "        \n",
    "        ### Next, predict y from the 2020 data\n",
    "        #x_new = 2020 data x\n",
    "        #y_new = model.predict(x_new[:, np.newaxis])\n",
    "        ### plot the results here?\n",
    "        #plt.figure(figsize=(4, 3))\n",
    "        #ax = plt.axes()\n",
    "        #ax.scatter(x, y)\n",
    "        #ax.plot(x_new, y_new)\n",
    "        #ax.set_xlabel('x')\n",
    "        #ax.set_ylabel('y')\n",
    "        #ax.axis('tight')\n",
    "        #plt.show()\n",
    "        \n",
    "    "
   ]
  },
  {
   "cell_type": "markdown",
   "metadata": {},
   "source": [
    "### This gets us our predictions, but we have a problem. (Most/All/A lot) of the models predict the same result.The binary outcome is simply not enough to guage which model is most accurate. As such, we decided to predict the popular vote instead. This will allow for more granular comparisons, since popular votes are much more variable than binary election outcomes.  "
   ]
  },
  {
   "cell_type": "code",
   "execution_count": null,
   "metadata": {},
   "outputs": [],
   "source": [
    "# use the same techniques as before the predict the popular vote margin"
   ]
  },
  {
   "cell_type": "code",
   "execution_count": null,
   "metadata": {},
   "outputs": [],
   "source": []
  },
  {
   "cell_type": "code",
   "execution_count": null,
   "metadata": {},
   "outputs": [],
   "source": []
  },
  {
   "cell_type": "markdown",
   "metadata": {},
   "source": [
    "### Now that the 2020 election is over, we can compare the predictions of our models to the actual results. "
   ]
  },
  {
   "cell_type": "markdown",
   "metadata": {},
   "source": [
    "## Results: "
   ]
  },
  {
   "cell_type": "code",
   "execution_count": null,
   "metadata": {},
   "outputs": [],
   "source": []
  },
  {
   "cell_type": "markdown",
   "metadata": {},
   "source": []
  },
  {
   "cell_type": "code",
   "execution_count": null,
   "metadata": {},
   "outputs": [],
   "source": []
  },
  {
   "cell_type": "markdown",
   "metadata": {},
   "source": []
  },
  {
   "cell_type": "markdown",
   "metadata": {},
   "source": []
  },
  {
   "cell_type": "code",
   "execution_count": null,
   "metadata": {},
   "outputs": [],
   "source": []
  },
  {
   "cell_type": "markdown",
   "metadata": {},
   "source": []
  },
  {
   "cell_type": "markdown",
   "metadata": {},
   "source": []
  },
  {
   "cell_type": "code",
   "execution_count": null,
   "metadata": {},
   "outputs": [],
   "source": []
  },
  {
   "cell_type": "markdown",
   "metadata": {},
   "source": []
  },
  {
   "cell_type": "code",
   "execution_count": null,
   "metadata": {},
   "outputs": [],
   "source": []
  }
 ],
 "metadata": {
  "anaconda-cloud": {},
  "kernelspec": {
   "display_name": "Python 3",
   "language": "python",
   "name": "python3"
  },
  "language_info": {
   "codemirror_mode": {
    "name": "ipython",
    "version": 3
   },
   "file_extension": ".py",
   "mimetype": "text/x-python",
   "name": "python",
   "nbconvert_exporter": "python",
   "pygments_lexer": "ipython3",
   "version": "3.8.5"
  }
 },
 "nbformat": 4,
 "nbformat_minor": 1
}
